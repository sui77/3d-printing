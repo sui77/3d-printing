{
  "nbformat": 4,
  "nbformat_minor": 0,
  "metadata": {
    "colab": {
      "name": "Scann3rMeshroom.ipynb",
      "provenance": []
    },
    "kernelspec": {
      "name": "python3",
      "display_name": "Python 3"
    },
    "accelerator": "GPU"
  },
  "cells": [
    {
      "cell_type": "code",
      "metadata": {
        "id": "RQy3xeM-Tns5"
      },
      "source": [
        "#@title File Location\n",
        "#@text foo\n",
        "\n",
        "ZIPUrl = '' #@param {type:\"string\"}\n",
        "\n",
        "%cd /content\n",
        "!rm -rf temp\n",
        "!rm -rf input\n",
        "!rm -rf out\n",
        "!rm -rf meshroom\n",
        "!mkdir temp\n",
        "!mkdir input\n",
        "!mkdir out\n",
        "!mkdir meshroom\n",
        "\n",
        "print(\"Downloading Images...\")\n",
        "!wget -O images.zip $ZIPUrl\n",
        "!unzip images.zip -d ./input\n",
        "\n",
        "import os.path\n",
        "if not os.path.isfile('./input/0-0.jpg'):\n",
        "\n",
        "    print(\"First image not found. Stopping.\")\n",
        "\n",
        "else:\n",
        "\n",
        "  print(\"Downloading & installing Meshroom...\")\n",
        "  %cd temp\n",
        "  !wget -N https://github.com/alicevision/meshroom/releases/download/v2019.2.0/Meshroom-2019.2.0-linux.tar.gz\n",
        "  !tar -xf Meshroom-2019.2.0-linux.tar.gz -C ../meshroom\n",
        "\n",
        "  print(\"Running Meshroom...\")\n",
        "  !/content/meshroom/Meshroom-2019.2.0/meshroom_photogrammetry --cache /tmp/MeshroomCache --input /content/input --output /content/out\n",
        "\n",
        "  print(\"Zipping Output...\")\n",
        "  %cd /content\n",
        "  !zip -r out.zip ./out\n",
        "\n",
        "  print(\"Pushing result back to origin\")\n",
        "  !curl --data-binary @out.zip -X PUT -H \"Content-Type: text/plain\"  $ZIPUrl\n",
        "\n",
        "\n",
        "\n",
        "\n"
      ],
      "execution_count": null,
      "outputs": []
    },
    {
      "cell_type": "markdown",
      "metadata": {
        "id": "djxEKbwTSp6B"
      },
      "source": [
        "**Manual download:**"
      ]
    },
    {
      "cell_type": "code",
      "metadata": {
        "id": "qcTLfNhDSoPB",
        "outputId": "cb465e3b-5710-4957-9e52-11d88e688b28",
        "colab": {
          "base_uri": "https://localhost:8080/",
          "height": 34
        }
      },
      "source": [
        "  print(\"Download.\")\n",
        "  from google.colab import files\n",
        "  files.download('out.zip')"
      ],
      "execution_count": 5,
      "outputs": [
        {
          "output_type": "stream",
          "text": [
            "Download.\n"
          ],
          "name": "stdout"
        },
        {
          "output_type": "display_data",
          "data": {
            "application/javascript": [
              "\n",
              "    async function download(id, filename, size) {\n",
              "      if (!google.colab.kernel.accessAllowed) {\n",
              "        return;\n",
              "      }\n",
              "      const div = document.createElement('div');\n",
              "      const label = document.createElement('label');\n",
              "      label.textContent = `Downloading \"${filename}\": `;\n",
              "      div.appendChild(label);\n",
              "      const progress = document.createElement('progress');\n",
              "      progress.max = size;\n",
              "      div.appendChild(progress);\n",
              "      document.body.appendChild(div);\n",
              "\n",
              "      const buffers = [];\n",
              "      let downloaded = 0;\n",
              "\n",
              "      const channel = await google.colab.kernel.comms.open(id);\n",
              "      // Send a message to notify the kernel that we're ready.\n",
              "      channel.send({})\n",
              "\n",
              "      for await (const message of channel.messages) {\n",
              "        // Send a message to notify the kernel that we're ready.\n",
              "        channel.send({})\n",
              "        if (message.buffers) {\n",
              "          for (const buffer of message.buffers) {\n",
              "            buffers.push(buffer);\n",
              "            downloaded += buffer.byteLength;\n",
              "            progress.value = downloaded;\n",
              "          }\n",
              "        }\n",
              "      }\n",
              "      const blob = new Blob(buffers, {type: 'application/binary'});\n",
              "      const a = document.createElement('a');\n",
              "      a.href = window.URL.createObjectURL(blob);\n",
              "      a.download = filename;\n",
              "      div.appendChild(a);\n",
              "      a.click();\n",
              "      div.remove();\n",
              "    }\n",
              "  "
            ],
            "text/plain": [
              "<IPython.core.display.Javascript object>"
            ]
          },
          "metadata": {
            "tags": []
          }
        },
        {
          "output_type": "display_data",
          "data": {
            "application/javascript": [
              "download(\"download_09bb27e5-b886-46f6-9739-3cd52b442fee\", \"texturedMesh.obj\", 18965863)"
            ],
            "text/plain": [
              "<IPython.core.display.Javascript object>"
            ]
          },
          "metadata": {
            "tags": []
          }
        }
      ]
    }
  ]
}